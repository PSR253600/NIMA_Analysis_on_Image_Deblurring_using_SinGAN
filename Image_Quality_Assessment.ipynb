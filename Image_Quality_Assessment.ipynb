{
  "nbformat": 4,
  "nbformat_minor": 0,
  "metadata": {
    "colab": {
      "provenance": [],
      "gpuType": "T4"
    },
    "kernelspec": {
      "name": "python3",
      "display_name": "Python 3"
    },
    "language_info": {
      "name": "python"
    },
    "accelerator": "GPU"
  },
  "cells": [
    {
      "cell_type": "markdown",
      "source": [
        "**Clone the NIMA implemented Repository**"
      ],
      "metadata": {
        "id": "O_Gux2pXhmAt"
      }
    },
    {
      "cell_type": "code",
      "source": [
        "!git clone https://github.com/aigagror/ML-Aesthetics-NIMA.git"
      ],
      "metadata": {
        "id": "nnghBR8ik2Fd"
      },
      "execution_count": null,
      "outputs": []
    },
    {
      "cell_type": "code",
      "source": [
        "%cd ML-Aesthetics-NIMA/ #Change the current working directory to the cloned repository"
      ],
      "metadata": {
        "id": "36HycveGpvaa"
      },
      "execution_count": null,
      "outputs": []
    },
    {
      "cell_type": "markdown",
      "source": [
        "**Install 'reportlab' library to work with pdf documents**"
      ],
      "metadata": {
        "id": "XTq6cbzaiAKE"
      }
    },
    {
      "cell_type": "code",
      "source": [
        "!pip install reportlab"
      ],
      "metadata": {
        "id": "LOmykoHWxwXr"
      },
      "execution_count": null,
      "outputs": []
    },
    {
      "cell_type": "markdown",
      "source": [
        "**Resize the original sharp image to 256x256 px to compute PSNR by comparing it with the SinGAN Generated image**"
      ],
      "metadata": {
        "id": "5V_THkB-iSoD"
      }
    },
    {
      "cell_type": "code",
      "source": [
        "import cv2\n",
        "\n",
        "def resize_and_save_image(image_path):\n",
        "    # Read the image using cv2\n",
        "    image = cv2.imread(image_path)\n",
        "\n",
        "    # Desired size (256x256)\n",
        "    size = (256, 256)\n",
        "\n",
        "    # Resize the image to the specified size\n",
        "    resized_image = cv2.resize(image, size, interpolation=cv2.INTER_AREA)\n",
        "\n",
        "    # Get the original filename without extension\n",
        "    file_name = image_path.split(\"/\")[-1].split(\".\")[0]\n",
        "\n",
        "    # Save the resized image with '_256x256' suffix\n",
        "    output_path = f\"{file_name}_256x256.jpg\"\n",
        "    cv2.imwrite(output_path, resized_image)\n",
        "\n",
        "# Example usage:\n",
        "if __name__ == \"__main__\":\n",
        "    # Path to the image\n",
        "    input_image_path = \"/content/ML-Aesthetics-NIMA/122_HONOR-7X_F.jpg\"\n",
        "\n",
        "    resize_and_save_image(input_image_path)\n"
      ],
      "metadata": {
        "id": "dpCCCpCLiOFy"
      },
      "execution_count": null,
      "outputs": []
    },
    {
      "cell_type": "markdown",
      "source": [
        "**Compute NIMA Scores and PSNRs for every SinGAN Generated image**"
      ],
      "metadata": {
        "id": "FbXFf4hXiyqx"
      }
    },
    {
      "cell_type": "markdown",
      "source": [
        "Place the SinGAN Generated images inside images directory and execute the following command:"
      ],
      "metadata": {
        "id": "0uczwC2EkDLp"
      }
    },
    {
      "cell_type": "code",
      "source": [
        "!python main.py images /content/ML-Aesthetics-NIMA/122_HONOR-7X_F_256x256.jpg #Path to the original sharp image"
      ],
      "metadata": {
        "id": "eh9G-kmUp04k"
      },
      "execution_count": null,
      "outputs": []
    }
  ]
}