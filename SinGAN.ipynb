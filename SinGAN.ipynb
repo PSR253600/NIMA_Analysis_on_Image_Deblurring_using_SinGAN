{
  "cells": [
    {
      "cell_type": "markdown",
      "metadata": {
        "id": "MOj20NGL7RhI"
      },
      "source": [
        "**Cloning the SinGAN Repository**"
      ]
    },
    {
      "cell_type": "code",
      "execution_count": null,
      "metadata": {
        "id": "XnF6WqwrIsmg"
      },
      "outputs": [],
      "source": [
        "!git clone https://github.com/tamarott/SinGAN.git"
      ]
    },
    {
      "cell_type": "markdown",
      "metadata": {
        "id": "OAb2Rh7m7Z0k"
      },
      "source": [
        "**Verify whether the GPU is available**"
      ]
    },
    {
      "cell_type": "code",
      "execution_count": null,
      "metadata": {
        "id": "SuG_3_fUgCaI"
      },
      "outputs": [],
      "source": [
        "!nvidia-smi\n",
        "!nvcc --version"
      ]
    },
    {
      "cell_type": "markdown",
      "metadata": {
        "id": "C5e_ps6C7iql"
      },
      "source": [
        "**Install the required packages and libraries**"
      ]
    },
    {
      "cell_type": "code",
      "execution_count": null,
      "metadata": {
        "id": "WNh8Y2P7I-8S"
      },
      "outputs": [],
      "source": [
        "!pip install -r SinGAN/requirements.txt"
      ]
    },
    {
      "cell_type": "markdown",
      "metadata": {
        "id": "FxsXZ-J27ry6"
      },
      "source": [
        "**Change the current working directory to the cloned directory**"
      ]
    },
    {
      "cell_type": "code",
      "execution_count": null,
      "metadata": {
        "id": "t9UfycIDq2Gm"
      },
      "outputs": [],
      "source": [
        "%cd /content/SinGAN\n",
        "!ls"
      ]
    },
    {
      "cell_type": "markdown",
      "source": [
        "Upload the blurry image to Input/Images"
      ],
      "metadata": {
        "id": "VMN28NW9k-en"
      }
    },
    {
      "cell_type": "markdown",
      "metadata": {
        "id": "ODZTOSMP75SO"
      },
      "source": [
        "**Resize the blurry image to 256x256 px**"
      ]
    },
    {
      "cell_type": "code",
      "execution_count": null,
      "metadata": {
        "id": "I5DJpOXy6Yxv"
      },
      "outputs": [],
      "source": [
        "from PIL import Image\n",
        "import os\n",
        "\n",
        "def resize_and_save_image(image_path):\n",
        "    # Open the image\n",
        "    image = Image.open(image_path)\n",
        "\n",
        "    # Resize the image to 256x256\n",
        "    size = (256, 256)\n",
        "    resized_image = image.resize(size, Image.ANTIALIAS)\n",
        "\n",
        "    # Get the original filename without extension\n",
        "    file_name, ext = os.path.splitext(os.path.basename(image_path))\n",
        "\n",
        "    # Append '_256x256' to the filename\n",
        "    new_file_name = f\"{file_name}_256x256{ext}\"\n",
        "\n",
        "    # Save the resized image with the new filename\n",
        "    resized_image.save(new_file_name)\n",
        "\n",
        "if __name__ == \"__main__\":\n",
        "    # Path to the blurry image\n",
        "    image_path = \"/content/SinGAN/Input/Images/122_HONOR-7X_F.jpg\"\n",
        "    resize_and_save_image(image_path)"
      ]
    },
    {
      "cell_type": "code",
      "execution_count": null,
      "metadata": {
        "id": "hUMrZz4qz2RV"
      },
      "outputs": [],
      "source": [
        "!mv 122_HONOR-7X_F_256x256.jpg Input/Images #Move the resized image to Input/Images"
      ]
    },
    {
      "cell_type": "markdown",
      "metadata": {
        "id": "xsb4rf-38ma4"
      },
      "source": [
        "**Training the SinGAN with the resized image with Number of scales=10, Scale factor=0.75**"
      ]
    },
    {
      "cell_type": "code",
      "execution_count": null,
      "metadata": {
        "id": "o1gkaMEtKnwR"
      },
      "outputs": [],
      "source": [
        "!python main_train.py --input_name 122_HONOR-7X_S_256x256.jpg #Name of the resized image present in Input/Images"
      ]
    },
    {
      "cell_type": "markdown",
      "metadata": {
        "id": "A_gXuIeEQjQ-"
      },
      "source": [
        "**Generating Random Samples based on the trained scales**"
      ]
    },
    {
      "cell_type": "code",
      "execution_count": null,
      "metadata": {
        "id": "fh0vvp6qpMhf"
      },
      "outputs": [],
      "source": [
        "!python random_samples.py --input_name 122_HONOR-7X_F_256x256.jpg --mode random_samples --gen_start_scale 0 #Generation Start Scale number"
      ]
    },
    {
      "cell_type": "code",
      "execution_count": null,
      "metadata": {
        "id": "BL-Bw73UpyXm"
      },
      "outputs": [],
      "source": [
        "!zip -r 122_HONOR-7X_F_256x256_randomsamples.zip /content/SinGAN/Output/RandomSamples/122_HONOR-7X_F_256x256 #Zip the Random Samples folder to avoid issues with larger sizes"
      ]
    },
    {
      "cell_type": "markdown",
      "metadata": {
        "id": "Ty3qC1YdQ7U6"
      },
      "source": [
        "**Saving the entire repository to drive**"
      ]
    },
    {
      "cell_type": "code",
      "execution_count": null,
      "metadata": {
        "id": "qas7FskkiPQ8"
      },
      "outputs": [],
      "source": [
        "from google.colab import drive\n",
        "drive.mount('/content/drive') #Mount the Google drive to the Colab"
      ]
    },
    {
      "cell_type": "code",
      "execution_count": null,
      "metadata": {
        "id": "2KrcfvKkidSk"
      },
      "outputs": [],
      "source": [
        "!mv 122_HONOR-7X_F_256x256_randomsamples.zip /content/drive/MyDrive/ #Move the zip file to drive"
      ]
    }
  ],
  "metadata": {
    "accelerator": "GPU",
    "colab": {
      "provenance": []
    },
    "kernelspec": {
      "display_name": "Python 3",
      "name": "python3"
    },
    "language_info": {
      "name": "python"
    }
  },
  "nbformat": 4,
  "nbformat_minor": 0
}